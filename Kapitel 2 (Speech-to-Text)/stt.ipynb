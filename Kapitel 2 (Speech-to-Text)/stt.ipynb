{
 "cells": [
  {
   "cell_type": "code",
   "execution_count": 11,
   "metadata": {},
   "outputs": [
    {
     "name": "stdout",
     "output_type": "stream",
     "text": [
      "Transkript: how old is the Brooklyn Bridge\n",
      "Vertrauen: 0.9821605682373047\n"
     ]
    }
   ],
   "source": [
    "from google.cloud import speech\n",
    "\n",
    "client = speech.SpeechClient.from_service_account_json('qwiklabs-gcp-02-94904f21db4e-277598f3ebf0.json')\n",
    "\n",
    "config = speech.RecognitionConfig(\n",
    "    encoding=speech.RecognitionConfig.AudioEncoding.FLAC,\n",
    "    language_code='en-US',    # Anpassen der Spracheinstellungen\n",
    ")\n",
    "\n",
    "with open('speech_brooklyn_bridge.flac', 'rb') as audio_file:\n",
    "    content = audio_file.read()\n",
    "\n",
    "audio = speech.RecognitionAudio(content=content)\n",
    "\n",
    "response = client.recognize(config=config, audio=audio)\n",
    "\n",
    "for result in response.results:\n",
    "    transcript = result.alternatives[0].transcript\n",
    "    confidence = result.alternatives[0].confidence\n",
    "\n",
    "    print('Transkript: {}'.format(transcript))\n",
    "    print('Vertrauen: {}'.format(confidence))\n"
   ]
  }
 ],
 "metadata": {
  "kernelspec": {
   "display_name": "base",
   "language": "python",
   "name": "python3"
  },
  "language_info": {
   "codemirror_mode": {
    "name": "ipython",
    "version": 3
   },
   "file_extension": ".py",
   "mimetype": "text/x-python",
   "name": "python",
   "nbconvert_exporter": "python",
   "pygments_lexer": "ipython3",
   "version": "3.10.9"
  },
  "orig_nbformat": 4
 },
 "nbformat": 4,
 "nbformat_minor": 2
}
