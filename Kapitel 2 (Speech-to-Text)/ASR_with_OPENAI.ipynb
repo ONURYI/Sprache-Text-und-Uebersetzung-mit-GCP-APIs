{
 "cells": [
  {
   "cell_type": "code",
   "execution_count": 16,
   "metadata": {},
   "outputs": [
    {
     "data": {
      "text/plain": [
       "{'text': ' How old is the Brooklyn Bridge?',\n",
       " 'segments': [{'id': 0,\n",
       "   'seek': 0,\n",
       "   'start': 0.0,\n",
       "   'end': 1.76,\n",
       "   'text': ' How old is the Brooklyn Bridge?',\n",
       "   'tokens': [50364, 1012, 1331, 307, 264, 21872, 18917, 30, 50452],\n",
       "   'temperature': 0.0,\n",
       "   'avg_logprob': -0.3769610643386841,\n",
       "   'compression_ratio': 0.8378378378378378,\n",
       "   'no_speech_prob': 0.019619377329945564}],\n",
       " 'language': 'en'}"
      ]
     },
     "execution_count": 16,
     "metadata": {},
     "output_type": "execute_result"
    }
   ],
   "source": [
    "import whisper \n",
    "\n",
    "model = whisper.load_model('base')\n",
    "model.transcribe('speech_brooklyn_bridge.flac',fp16=False)"
   ]
  }
 ],
 "metadata": {
  "kernelspec": {
   "display_name": "base",
   "language": "python",
   "name": "python3"
  },
  "language_info": {
   "codemirror_mode": {
    "name": "ipython",
    "version": 3
   },
   "file_extension": ".py",
   "mimetype": "text/x-python",
   "name": "python",
   "nbconvert_exporter": "python",
   "pygments_lexer": "ipython3",
   "version": "3.10.9"
  },
  "orig_nbformat": 4
 },
 "nbformat": 4,
 "nbformat_minor": 2
}
